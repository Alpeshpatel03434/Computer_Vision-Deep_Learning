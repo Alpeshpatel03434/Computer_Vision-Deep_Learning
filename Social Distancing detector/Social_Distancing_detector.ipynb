{
 "cells": [
  {
   "cell_type": "markdown",
   "metadata": {},
   "source": [
    "# Social Distancing detector"
   ]
  },
  {
   "cell_type": "code",
   "execution_count": null,
   "metadata": {},
   "outputs": [],
   "source": []
  },
  {
   "cell_type": "markdown",
   "metadata": {},
   "source": [
    "## Importing the libraries"
   ]
  },
  {
   "cell_type": "code",
   "execution_count": 1,
   "metadata": {},
   "outputs": [],
   "source": [
    "import math\n",
    "import numpy as np\n",
    "import cv2 as cv\n",
    "\n",
    "import imutils\n",
    "from itertools import combinations"
   ]
  },
  {
   "cell_type": "markdown",
   "metadata": {},
   "source": [
    "## Centroid and Distance"
   ]
  },
  {
   "cell_type": "code",
   "execution_count": 2,
   "metadata": {},
   "outputs": [],
   "source": [
    "def Distance(p1, p2):\n",
    "    \n",
    "    dist = math.sqrt(p1**2 + p2**2)\n",
    "    \n",
    "    return dist"
   ]
  },
  {
   "cell_type": "code",
   "execution_count": 3,
   "metadata": {},
   "outputs": [],
   "source": [
    "def Centroid(x, y, w, h): \n",
    "    \n",
    "    cx = int(x+w/2.0)\n",
    "    cy = int(y+h/2.0)\n",
    "    \n",
    "    return cx, cy"
   ]
  },
  {
   "cell_type": "markdown",
   "metadata": {},
   "source": [
    "## Model MobileNetSSD  (Single Shot MultiBox Detector)\n",
    "\n",
    "### Pre-trained model For Object Detection"
   ]
  },
  {
   "cell_type": "markdown",
   "metadata": {},
   "source": [
    "**MobileNetSSD Model Used for Persone OR Human Detection**"
   ]
  },
  {
   "cell_type": "markdown",
   "metadata": {},
   "source": [
    "**Link to Download :** https://github.com/chuanqi305/MobileNet-SSD"
   ]
  },
  {
   "cell_type": "code",
   "execution_count": 4,
   "metadata": {},
   "outputs": [],
   "source": [
    "protopath = \"MobileNetSSD_deploy.prototxt\"\n",
    "modelpath = \"MobileNetSSD_deploy.caffemodel\"\n",
    "\n",
    "detector = cv.dnn.readNetFromCaffe(prototxt=protopath, caffeModel=modelpath)"
   ]
  },
  {
   "cell_type": "markdown",
   "metadata": {},
   "source": [
    "**We need only one Object**"
   ]
  },
  {
   "cell_type": "code",
   "execution_count": 5,
   "metadata": {},
   "outputs": [],
   "source": [
    "Classes = \"person\""
   ]
  },
  {
   "cell_type": "markdown",
   "metadata": {},
   "source": [
    "## Social Distancing Detection Function "
   ]
  },
  {
   "cell_type": "code",
   "execution_count": 6,
   "metadata": {},
   "outputs": [],
   "source": [
    "def detect(input_filename):\n",
    "\n",
    "    cap = cv.VideoCapture(input_filename)\n",
    "\n",
    "    while True:\n",
    "        ret, frame = cap.read()\n",
    "        \n",
    "        if (ret!=True):\n",
    "            break\n",
    "            \n",
    "        frame = imutils.resize(frame, width=950, height=1350)\n",
    "        \n",
    "        H = frame.shape[0]\n",
    "        W = frame.shape[1]\n",
    "        \n",
    "        blob = cv.dnn.blobFromImage(frame, 0.007843, (W, H), 127.5)\n",
    "        detector.setInput(blob)\n",
    "        person_detections = detector.forward()\n",
    "        \n",
    "        centroid_dict = dict()\n",
    "        objectId = 0\n",
    "        \n",
    "        rect_box = []\n",
    "        red_zone_list = []\n",
    "            \n",
    "        for i in np.arange(0, person_detections.shape[2]):\n",
    "            confidence = person_detections[0, 0, i, 2]\n",
    "            if confidence > 0.5:\n",
    "                idx = int(person_detections[0, 0, i, 1])\n",
    "\n",
    "                if Classes != \"person\":\n",
    "                    continue\n",
    "\n",
    "                person_box = person_detections[0, 0, i, 3:7] * np.array([W, H, W, H])\n",
    "                (startX, startY, endX, endY) = person_box.astype(\"int\")\n",
    "\n",
    "                person_box = person_detections[0, 0, i, 3:7] * np.array([W, H, W, H])\n",
    "                startX, startY, endX, endY = person_box.astype(\"int\")\n",
    "                \n",
    "                \n",
    "                cx, cy = Centroid(int(startX), int(startY), int(endX), int(endY))  \n",
    "                \n",
    "                centroid_dict[objectId] = (int(cx), int(cy), startX, startY, endX, endY)\n",
    "                objectId = objectId + 1      \n",
    "                 \n",
    "                text = \"Persone\"\n",
    "                cv.putText(frame, text, (startX, startY-5), cv.FONT_HERSHEY_COMPLEX_SMALL, 1, (255, 255, 255), 1)\n",
    "                \n",
    "                for (id1, p1), (id2, p2) in combinations(centroid_dict.items(), 2):\n",
    "                    dx, dy = p1[0] - p2[0], p1[1] - p2[1]\n",
    "                    \n",
    "                    distance = Distance(dx, dy)\n",
    "                    if distance < 75.0:\n",
    "                        if id1 not in red_zone_list:\n",
    "                            red_zone_list.append(id1)\n",
    "                        if id2 not in red_zone_list:\n",
    "                            red_zone_list.append(id2)\n",
    "                            \n",
    "                for id, box in centroid_dict.items():\n",
    "                    \n",
    "                    # Color code BGR Formate\n",
    "                    if id in red_zone_list:\n",
    "                        # Red                   \n",
    "                        cv.rectangle(frame, (box[2], box[3]), (box[4], box[5]), (0, 0, 255), 2)\n",
    "                    \n",
    "                    else :\n",
    "                        # Green\n",
    "                        cv.rectangle(frame, (box[2], box[3]), (box[4], box[5]), (0, 255, 0), 2)\n",
    "                    \n",
    "                        \n",
    "\n",
    "        \n",
    "        cv.imshow(\"Social Distancing detector\", frame)\n",
    "        key = cv.waitKey(1)\n",
    "        if key == ord('q') or key == 0:\n",
    "            break\n",
    "     \n",
    "    cv.destroyAllWindows()"
   ]
  },
  {
   "cell_type": "code",
   "execution_count": null,
   "metadata": {},
   "outputs": [],
   "source": []
  },
  {
   "cell_type": "markdown",
   "metadata": {},
   "source": [
    "## Current Direcotry"
   ]
  },
  {
   "cell_type": "code",
   "execution_count": 7,
   "metadata": {},
   "outputs": [],
   "source": [
    "import os"
   ]
  },
  {
   "cell_type": "code",
   "execution_count": null,
   "metadata": {},
   "outputs": [],
   "source": [
    "print(os.getcwd())"
   ]
  },
  {
   "cell_type": "markdown",
   "metadata": {},
   "source": [
    "## Input filename "
   ]
  },
  {
   "cell_type": "code",
   "execution_count": 8,
   "metadata": {},
   "outputs": [],
   "source": [
    "#input_filename = 'test_video.mp4'\n",
    "\n",
    "input_filename = 'test/Video3.mp4'"
   ]
  },
  {
   "cell_type": "markdown",
   "metadata": {},
   "source": [
    "## Check file avalible or not"
   ]
  },
  {
   "cell_type": "code",
   "execution_count": 9,
   "metadata": {},
   "outputs": [],
   "source": [
    "if not os.path.isfile(input_filename):\n",
    "    raise FileNotFoundError"
   ]
  },
  {
   "cell_type": "markdown",
   "metadata": {},
   "source": [
    "## Output"
   ]
  },
  {
   "cell_type": "code",
   "execution_count": 10,
   "metadata": {},
   "outputs": [],
   "source": [
    "detect(input_filename)"
   ]
  },
  {
   "cell_type": "markdown",
   "metadata": {},
   "source": [
    "### Green rectangle determine scocial distancing maintain\n",
    "\n",
    "### Red rectangle determine social distancing Viollance"
   ]
  },
  {
   "cell_type": "code",
   "execution_count": null,
   "metadata": {},
   "outputs": [],
   "source": []
  }
 ],
 "metadata": {
  "kernelspec": {
   "display_name": "Python 3",
   "language": "python",
   "name": "python3"
  },
  "language_info": {
   "codemirror_mode": {
    "name": "ipython",
    "version": 3
   },
   "file_extension": ".py",
   "mimetype": "text/x-python",
   "name": "python",
   "nbconvert_exporter": "python",
   "pygments_lexer": "ipython3",
   "version": "3.8.7"
  }
 },
 "nbformat": 4,
 "nbformat_minor": 4
}
